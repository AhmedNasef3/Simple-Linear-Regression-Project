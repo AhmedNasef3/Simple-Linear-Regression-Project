{
 "cells": [
  {
   "cell_type": "markdown",
   "id": "a2cda479",
   "metadata": {
    "papermill": {
     "duration": 0.007284,
     "end_time": "2024-10-10T17:47:56.461327",
     "exception": false,
     "start_time": "2024-10-10T17:47:56.454043",
     "status": "completed"
    },
    "tags": []
   },
   "source": [
    "<a id='top'></a>\n",
    "<div class=\"list-group\" id=\"list-tab\" role=\"tablist\">\n",
    "<p style=\"background-color:#23494F ;font-family:newtimeroman;color:#7BBDA4;font-size:300%;text-align:center;border-radius:60px 1px;\"> 𓆩 Content 𓆪 </p>\n",
    " \n",
    " <ul style = color:#1D2429;font-size:160%;>\n",
    "    <li> Import Libraries</li>\n",
    "    <li> Read Data</li>\n",
    "    <li> Get information about data</li>\n",
    "    <li> Splitting the data</li>\n",
    "    <li> Build the model</li>\n",
    "    <li> Test the model </li>\n",
    "    <li> Test the Accuracy</li>\n",
    "    <li> Build the same model using statsmodels</li>\n",
    "    \n",
    "</ul>"
   ]
  },
  {
   "cell_type": "markdown",
   "id": "9bd75d49",
   "metadata": {
    "papermill": {
     "duration": 0.006298,
     "end_time": "2024-10-10T17:47:56.474461",
     "exception": false,
     "start_time": "2024-10-10T17:47:56.468163",
     "status": "completed"
    },
    "tags": []
   },
   "source": [
    "-----"
   ]
  },
  {
   "cell_type": "markdown",
   "id": "5e45ad85",
   "metadata": {
    "papermill": {
     "duration": 0.006291,
     "end_time": "2024-10-10T17:47:56.487585",
     "exception": false,
     "start_time": "2024-10-10T17:47:56.481294",
     "status": "completed"
    },
    "tags": []
   },
   "source": [
    "## Import Libraries"
   ]
  },
  {
   "cell_type": "code",
   "execution_count": 1,
   "id": "97391ec6",
   "metadata": {
    "execution": {
     "iopub.execute_input": "2024-10-10T17:47:56.502834Z",
     "iopub.status.busy": "2024-10-10T17:47:56.502422Z",
     "iopub.status.idle": "2024-10-10T17:48:00.538953Z",
     "shell.execute_reply": "2024-10-10T17:48:00.537775Z"
    },
    "papermill": {
     "duration": 4.046917,
     "end_time": "2024-10-10T17:48:00.541604",
     "exception": false,
     "start_time": "2024-10-10T17:47:56.494687",
     "status": "completed"
    },
    "tags": []
   },
   "outputs": [],
   "source": [
    "import numpy as np \n",
    "import pandas as pd\n",
    "import matplotlib.pyplot as plt\n",
    "import seaborn as sns\n",
    "from sklearn.linear_model import LinearRegression\n",
    "from sklearn.model_selection import train_test_split\n",
    "from sklearn.metrics import r2_score\n",
    "import statsmodels.api as sm\n",
    "\n",
    "import warnings\n",
    "warnings.filterwarnings('ignore')"
   ]
  },
  {
   "cell_type": "markdown",
   "id": "2846a11b",
   "metadata": {
    "papermill": {
     "duration": 0.00644,
     "end_time": "2024-10-10T17:48:00.556110",
     "exception": false,
     "start_time": "2024-10-10T17:48:00.549670",
     "status": "completed"
    },
    "tags": []
   },
   "source": [
    "---\n",
    "## Read Data"
   ]
  },
  {
   "cell_type": "code",
   "execution_count": 2,
   "id": "2c52b7f4",
   "metadata": {
    "execution": {
     "iopub.execute_input": "2024-10-10T17:48:00.571292Z",
     "iopub.status.busy": "2024-10-10T17:48:00.570645Z",
     "iopub.status.idle": "2024-10-10T17:48:00.593407Z",
     "shell.execute_reply": "2024-10-10T17:48:00.592423Z"
    },
    "papermill": {
     "duration": 0.033084,
     "end_time": "2024-10-10T17:48:00.595915",
     "exception": false,
     "start_time": "2024-10-10T17:48:00.562831",
     "status": "completed"
    },
    "tags": []
   },
   "outputs": [],
   "source": [
    "df=pd.read_csv('/kaggle/input/student-study-hours/score_updated.csv')"
   ]
  },
  {
   "cell_type": "markdown",
   "id": "c5a469c4",
   "metadata": {
    "papermill": {
     "duration": 0.006454,
     "end_time": "2024-10-10T17:48:00.609223",
     "exception": false,
     "start_time": "2024-10-10T17:48:00.602769",
     "status": "completed"
    },
    "tags": []
   },
   "source": [
    "-----\n",
    "## Get some information"
   ]
  },
  {
   "cell_type": "code",
   "execution_count": 3,
   "id": "efe1bb0c",
   "metadata": {
    "execution": {
     "iopub.execute_input": "2024-10-10T17:48:00.623960Z",
     "iopub.status.busy": "2024-10-10T17:48:00.623549Z",
     "iopub.status.idle": "2024-10-10T17:48:00.642080Z",
     "shell.execute_reply": "2024-10-10T17:48:00.640996Z"
    },
    "papermill": {
     "duration": 0.028548,
     "end_time": "2024-10-10T17:48:00.644356",
     "exception": false,
     "start_time": "2024-10-10T17:48:00.615808",
     "status": "completed"
    },
    "tags": []
   },
   "outputs": [
    {
     "data": {
      "text/html": [
       "<div>\n",
       "<style scoped>\n",
       "    .dataframe tbody tr th:only-of-type {\n",
       "        vertical-align: middle;\n",
       "    }\n",
       "\n",
       "    .dataframe tbody tr th {\n",
       "        vertical-align: top;\n",
       "    }\n",
       "\n",
       "    .dataframe thead th {\n",
       "        text-align: right;\n",
       "    }\n",
       "</style>\n",
       "<table border=\"1\" class=\"dataframe\">\n",
       "  <thead>\n",
       "    <tr style=\"text-align: right;\">\n",
       "      <th></th>\n",
       "      <th>Hours</th>\n",
       "      <th>Scores</th>\n",
       "    </tr>\n",
       "  </thead>\n",
       "  <tbody>\n",
       "    <tr>\n",
       "      <th>0</th>\n",
       "      <td>2.5</td>\n",
       "      <td>21</td>\n",
       "    </tr>\n",
       "    <tr>\n",
       "      <th>1</th>\n",
       "      <td>5.1</td>\n",
       "      <td>47</td>\n",
       "    </tr>\n",
       "    <tr>\n",
       "      <th>2</th>\n",
       "      <td>3.2</td>\n",
       "      <td>27</td>\n",
       "    </tr>\n",
       "    <tr>\n",
       "      <th>3</th>\n",
       "      <td>8.5</td>\n",
       "      <td>75</td>\n",
       "    </tr>\n",
       "    <tr>\n",
       "      <th>4</th>\n",
       "      <td>3.5</td>\n",
       "      <td>30</td>\n",
       "    </tr>\n",
       "  </tbody>\n",
       "</table>\n",
       "</div>"
      ],
      "text/plain": [
       "   Hours  Scores\n",
       "0    2.5      21\n",
       "1    5.1      47\n",
       "2    3.2      27\n",
       "3    8.5      75\n",
       "4    3.5      30"
      ]
     },
     "execution_count": 3,
     "metadata": {},
     "output_type": "execute_result"
    }
   ],
   "source": [
    "df.head()"
   ]
  },
  {
   "cell_type": "code",
   "execution_count": 4,
   "id": "e947a003",
   "metadata": {
    "execution": {
     "iopub.execute_input": "2024-10-10T17:48:00.659998Z",
     "iopub.status.busy": "2024-10-10T17:48:00.659606Z",
     "iopub.status.idle": "2024-10-10T17:48:00.672522Z",
     "shell.execute_reply": "2024-10-10T17:48:00.671400Z"
    },
    "papermill": {
     "duration": 0.023235,
     "end_time": "2024-10-10T17:48:00.674766",
     "exception": false,
     "start_time": "2024-10-10T17:48:00.651531",
     "status": "completed"
    },
    "tags": []
   },
   "outputs": [],
   "source": [
    "# remove duplicates\n",
    "df.drop_duplicates(inplace=True)"
   ]
  },
  {
   "cell_type": "code",
   "execution_count": 5,
   "id": "1abbd8fe",
   "metadata": {
    "execution": {
     "iopub.execute_input": "2024-10-10T17:48:00.689933Z",
     "iopub.status.busy": "2024-10-10T17:48:00.689541Z",
     "iopub.status.idle": "2024-10-10T17:48:00.706249Z",
     "shell.execute_reply": "2024-10-10T17:48:00.705195Z"
    },
    "papermill": {
     "duration": 0.027385,
     "end_time": "2024-10-10T17:48:00.708964",
     "exception": false,
     "start_time": "2024-10-10T17:48:00.681579",
     "status": "completed"
    },
    "tags": []
   },
   "outputs": [
    {
     "name": "stdout",
     "output_type": "stream",
     "text": [
      "<class 'pandas.core.frame.DataFrame'>\n",
      "Index: 95 entries, 0 to 95\n",
      "Data columns (total 2 columns):\n",
      " #   Column  Non-Null Count  Dtype  \n",
      "---  ------  --------------  -----  \n",
      " 0   Hours   95 non-null     float64\n",
      " 1   Scores  95 non-null     int64  \n",
      "dtypes: float64(1), int64(1)\n",
      "memory usage: 2.2 KB\n"
     ]
    }
   ],
   "source": [
    "df.info()"
   ]
  },
  {
   "cell_type": "code",
   "execution_count": 6,
   "id": "c498a575",
   "metadata": {
    "execution": {
     "iopub.execute_input": "2024-10-10T17:48:00.725184Z",
     "iopub.status.busy": "2024-10-10T17:48:00.724204Z",
     "iopub.status.idle": "2024-10-10T17:48:00.987087Z",
     "shell.execute_reply": "2024-10-10T17:48:00.986036Z"
    },
    "papermill": {
     "duration": 0.273403,
     "end_time": "2024-10-10T17:48:00.989417",
     "exception": false,
     "start_time": "2024-10-10T17:48:00.716014",
     "status": "completed"
    },
    "tags": []
   },
   "outputs": [
    {
     "data": {
      "image/png": "[encoded data removed]",
      "text/plain": [
       "<Figure size 800x600 with 1 Axes>"
      ]
     },
     "metadata": {},
     "output_type": "display_data"
    }
   ],
   "source": [
    "plt.figure(figsize=(8,6))\n",
    "sns.scatterplot(df,x='Hours',y='Scores')\n",
    "plt.show()"
   ]
  },
  {
   "cell_type": "markdown",
   "id": "e59f9666",
   "metadata": {
    "papermill": {
     "duration": 0.006958,
     "end_time": "2024-10-10T17:48:01.003800",
     "exception": false,
     "start_time": "2024-10-10T17:48:00.996842",
     "status": "completed"
    },
    "tags": []
   },
   "source": [
    "----\n",
    "## Splitting the data"
   ]
  },
  {
   "cell_type": "code",
   "execution_count": 7,
   "id": "7018fe0b",
   "metadata": {
    "execution": {
     "iopub.execute_input": "2024-10-10T17:48:01.020467Z",
     "iopub.status.busy": "2024-10-10T17:48:01.019584Z",
     "iopub.status.idle": "2024-10-10T17:48:01.025321Z",
     "shell.execute_reply": "2024-10-10T17:48:01.024359Z"
    },
    "papermill": {
     "duration": 0.016412,
     "end_time": "2024-10-10T17:48:01.027399",
     "exception": false,
     "start_time": "2024-10-10T17:48:01.010987",
     "status": "completed"
    },
    "tags": []
   },
   "outputs": [],
   "source": [
    "x=df.iloc[:,:-1].values\n",
    "y=df.iloc[:,-1].values.reshape(-1,1)"
   ]
  },
  {
   "cell_type": "code",
   "execution_count": 8,
   "id": "7fe335bc",
   "metadata": {
    "execution": {
     "iopub.execute_input": "2024-10-10T17:48:01.043606Z",
     "iopub.status.busy": "2024-10-10T17:48:01.043205Z",
     "iopub.status.idle": "2024-10-10T17:48:01.049615Z",
     "shell.execute_reply": "2024-10-10T17:48:01.048605Z"
    },
    "papermill": {
     "duration": 0.01687,
     "end_time": "2024-10-10T17:48:01.051699",
     "exception": false,
     "start_time": "2024-10-10T17:48:01.034829",
     "status": "completed"
    },
    "tags": []
   },
   "outputs": [],
   "source": [
    "X_train,X_test,Y_train,Y_test=train_test_split(x,y,test_size=.2)"
   ]
  },
  {
   "cell_type": "markdown",
   "id": "651e0892",
   "metadata": {
    "papermill": {
     "duration": 0.007039,
     "end_time": "2024-10-10T17:48:01.066050",
     "exception": false,
     "start_time": "2024-10-10T17:48:01.059011",
     "status": "completed"
    },
    "tags": []
   },
   "source": [
    "----\n",
    "## Build the model"
   ]
  },
  {
   "cell_type": "code",
   "execution_count": 9,
   "id": "75c44a07",
   "metadata": {
    "execution": {
     "iopub.execute_input": "2024-10-10T17:48:01.082265Z",
     "iopub.status.busy": "2024-10-10T17:48:01.081874Z",
     "iopub.status.idle": "2024-10-10T17:48:01.100207Z",
     "shell.execute_reply": "2024-10-10T17:48:01.099246Z"
    },
    "papermill": {
     "duration": 0.028936,
     "end_time": "2024-10-10T17:48:01.102287",
     "exception": false,
     "start_time": "2024-10-10T17:48:01.073351",
     "status": "completed"
    },
    "tags": []
   },
   "outputs": [
    {
     "data": {
      "text/html": [
       "<style>#sk-container-id-1 {color: black;background-color: white;}#sk-container-id-1 pre{padding: 0;}#sk-container-id-1 div.sk-toggleable {background-color: white;}#sk-container-id-1 label.sk-toggleable__label {cursor: pointer;display: block;width: 100%;margin-bottom: 0;padding: 0.3em;box-sizing: border-box;text-align: center;}#sk-container-id-1 label.sk-toggleable__label-arrow:before {content: \"▸\";float: left;margin-right: 0.25em;color: #696969;}#sk-container-id-1 label.sk-toggleable__label-arrow:hover:before {color: black;}#sk-container-id-1 div.sk-estimator:hover label.sk-toggleable__label-arrow:before {color: black;}#sk-container-id-1 div.sk-toggleable__content {max-height: 0;max-width: 0;overflow: hidden;text-align: left;background-color: #f0f8ff;}#sk-container-id-1 div.sk-toggleable__content pre {margin: 0.2em;color: black;border-radius: 0.25em;background-color: #f0f8ff;}#sk-container-id-1 input.sk-toggleable__control:checked~div.sk-toggleable__content {max-height: 200px;max-width: 100%;overflow: auto;}#sk-container-id-1 input.sk-toggleable__control:checked~label.sk-toggleable__label-arrow:before {content: \"▾\";}#sk-container-id-1 div.sk-estimator input.sk-toggleable__control:checked~label.sk-toggleable__label {background-color: #d4ebff;}#sk-container-id-1 div.sk-label input.sk-toggleable__control:checked~label.sk-toggleable__label {background-color: #d4ebff;}#sk-container-id-1 input.sk-hidden--visually {border: 0;clip: rect(1px 1px 1px 1px);clip: rect(1px, 1px, 1px, 1px);height: 1px;margin: -1px;overflow: hidden;padding: 0;position: absolute;width: 1px;}#sk-container-id-1 div.sk-estimator {font-family: monospace;background-color: #f0f8ff;border: 1px dotted black;border-radius: 0.25em;box-sizing: border-box;margin-bottom: 0.5em;}#sk-container-id-1 div.sk-estimator:hover {background-color: #d4ebff;}#sk-container-id-1 div.sk-parallel-item::after {content: \"\";width: 100%;border-bottom: 1px solid gray;flex-grow: 1;}#sk-container-id-1 div.sk-label:hover label.sk-toggleable__label {background-color: #d4ebff;}#sk-container-id-1 div.sk-serial::before {content: \"\";position: absolute;border-left: 1px solid gray;box-sizing: border-box;top: 0;bottom: 0;left: 50%;z-index: 0;}#sk-container-id-1 div.sk-serial {display: flex;flex-direction: column;align-items: center;background-color: white;padding-right: 0.2em;padding-left: 0.2em;position: relative;}#sk-container-id-1 div.sk-item {position: relative;z-index: 1;}#sk-container-id-1 div.sk-parallel {display: flex;align-items: stretch;justify-content: center;background-color: white;position: relative;}#sk-container-id-1 div.sk-item::before, #sk-container-id-1 div.sk-parallel-item::before {content: \"\";position: absolute;border-left: 1px solid gray;box-sizing: border-box;top: 0;bottom: 0;left: 50%;z-index: -1;}#sk-container-id-1 div.sk-parallel-item {display: flex;flex-direction: column;z-index: 1;position: relative;background-color: white;}#sk-container-id-1 div.sk-parallel-item:first-child::after {align-self: flex-end;width: 50%;}#sk-container-id-1 div.sk-parallel-item:last-child::after {align-self: flex-start;width: 50%;}#sk-container-id-1 div.sk-parallel-item:only-child::after {width: 0;}#sk-container-id-1 div.sk-dashed-wrapped {border: 1px dashed gray;margin: 0 0.4em 0.5em 0.4em;box-sizing: border-box;padding-bottom: 0.4em;background-color: white;}#sk-container-id-1 div.sk-label label {font-family: monospace;font-weight: bold;display: inline-block;line-height: 1.2em;}#sk-container-id-1 div.sk-label-container {text-align: center;}#sk-container-id-1 div.sk-container {/* jupyter's `normalize.less` sets `[hidden] { display: none; }` but bootstrap.min.css set `[hidden] { display: none !important; }` so we also need the `!important` here to be able to override the default hidden behavior on the sphinx rendered scikit-learn.org. See: https://github.com/scikit-learn/scikit-learn/issues/21755 */display: inline-block !important;position: relative;}#sk-container-id-1 div.sk-text-repr-fallback {display: none;}</style><div id=\"sk-container-id-1\" class=\"sk-top-container\"><div class=\"sk-text-repr-fallback\"><pre>LinearRegression()</pre><b>In a Jupyter environment, please rerun this cell to show the HTML representation or trust the notebook. <br />On GitHub, the HTML representation is unable to render, please try loading this page with nbviewer.org.</b></div><div class=\"sk-container\" hidden><div class=\"sk-item\"><div class=\"sk-estimator sk-toggleable\"><input class=\"sk-toggleable__control sk-hidden--visually\" id=\"sk-estimator-id-1\" type=\"checkbox\" checked><label for=\"sk-estimator-id-1\" class=\"sk-toggleable__label sk-toggleable__label-arrow\">LinearRegression</label><div class=\"sk-toggleable__content\"><pre>LinearRegression()</pre></div></div></div></div></div>"
      ],
      "text/plain": [
       "LinearRegression()"
      ]
     },
     "execution_count": 9,
     "metadata": {},
     "output_type": "execute_result"
    }
   ],
   "source": [
    "model=LinearRegression()\n",
    "model.fit(X_train,Y_train)"
   ]
  },
  {
   "cell_type": "markdown",
   "id": "4adab33c",
   "metadata": {
    "papermill": {
     "duration": 0.007276,
     "end_time": "2024-10-10T17:48:01.117106",
     "exception": false,
     "start_time": "2024-10-10T17:48:01.109830",
     "status": "completed"
    },
    "tags": []
   },
   "source": [
    "------"
   ]
  },
  {
   "cell_type": "markdown",
   "id": "f518ab6a",
   "metadata": {
    "papermill": {
     "duration": 0.007239,
     "end_time": "2024-10-10T17:48:01.132124",
     "exception": false,
     "start_time": "2024-10-10T17:48:01.124885",
     "status": "completed"
    },
    "tags": []
   },
   "source": [
    "## Test the model"
   ]
  },
  {
   "cell_type": "code",
   "execution_count": 10,
   "id": "6eaba7d1",
   "metadata": {
    "execution": {
     "iopub.execute_input": "2024-10-10T17:48:01.149386Z",
     "iopub.status.busy": "2024-10-10T17:48:01.148526Z",
     "iopub.status.idle": "2024-10-10T17:48:01.155302Z",
     "shell.execute_reply": "2024-10-10T17:48:01.154228Z"
    },
    "papermill": {
     "duration": 0.017781,
     "end_time": "2024-10-10T17:48:01.157422",
     "exception": false,
     "start_time": "2024-10-10T17:48:01.139641",
     "status": "completed"
    },
    "tags": []
   },
   "outputs": [
    {
     "data": {
      "text/plain": [
       "array([[10.00607295]])"
      ]
     },
     "execution_count": 10,
     "metadata": {},
     "output_type": "execute_result"
    }
   ],
   "source": [
    "model.coef_"
   ]
  },
  {
   "cell_type": "code",
   "execution_count": 11,
   "id": "504515a6",
   "metadata": {
    "execution": {
     "iopub.execute_input": "2024-10-10T17:48:01.174294Z",
     "iopub.status.busy": "2024-10-10T17:48:01.173884Z",
     "iopub.status.idle": "2024-10-10T17:48:01.180879Z",
     "shell.execute_reply": "2024-10-10T17:48:01.179781Z"
    },
    "papermill": {
     "duration": 0.018111,
     "end_time": "2024-10-10T17:48:01.183117",
     "exception": false,
     "start_time": "2024-10-10T17:48:01.165006",
     "status": "completed"
    },
    "tags": []
   },
   "outputs": [
    {
     "data": {
      "text/plain": [
       "array([1.49478441])"
      ]
     },
     "execution_count": 11,
     "metadata": {},
     "output_type": "execute_result"
    }
   ],
   "source": [
    "model.intercept_"
   ]
  },
  {
   "cell_type": "code",
   "execution_count": 12,
   "id": "8259c400",
   "metadata": {
    "execution": {
     "iopub.execute_input": "2024-10-10T17:48:01.200664Z",
     "iopub.status.busy": "2024-10-10T17:48:01.199925Z",
     "iopub.status.idle": "2024-10-10T17:48:01.206702Z",
     "shell.execute_reply": "2024-10-10T17:48:01.205691Z"
    },
    "papermill": {
     "duration": 0.017932,
     "end_time": "2024-10-10T17:48:01.208936",
     "exception": false,
     "start_time": "2024-10-10T17:48:01.191004",
     "status": "completed"
    },
    "tags": []
   },
   "outputs": [
    {
     "data": {
      "text/plain": [
       "array([[98],\n",
       "       [96],\n",
       "       [86],\n",
       "       [67]])"
      ]
     },
     "execution_count": 12,
     "metadata": {},
     "output_type": "execute_result"
    }
   ],
   "source": [
    "Y_test[:4]"
   ]
  },
  {
   "cell_type": "code",
   "execution_count": 13,
   "id": "eca0ca25",
   "metadata": {
    "execution": {
     "iopub.execute_input": "2024-10-10T17:48:01.226149Z",
     "iopub.status.busy": "2024-10-10T17:48:01.225726Z",
     "iopub.status.idle": "2024-10-10T17:48:01.232831Z",
     "shell.execute_reply": "2024-10-10T17:48:01.231787Z"
    },
    "papermill": {
     "duration": 0.018352,
     "end_time": "2024-10-10T17:48:01.235050",
     "exception": false,
     "start_time": "2024-10-10T17:48:01.216698",
     "status": "completed"
    },
    "tags": []
   },
   "outputs": [
    {
     "data": {
      "text/plain": [
       "array([[97.5530847 ],\n",
       "       [98.55369199],\n",
       "       [79.5421534 ],\n",
       "       [62.53182939]])"
      ]
     },
     "execution_count": 13,
     "metadata": {},
     "output_type": "execute_result"
    }
   ],
   "source": [
    "Y_pred=model.predict(X_test)\n",
    "Y_pred[:4]"
   ]
  },
  {
   "cell_type": "code",
   "execution_count": 14,
   "id": "fe1e0de8",
   "metadata": {
    "execution": {
     "iopub.execute_input": "2024-10-10T17:48:01.253464Z",
     "iopub.status.busy": "2024-10-10T17:48:01.252794Z",
     "iopub.status.idle": "2024-10-10T17:48:01.264670Z",
     "shell.execute_reply": "2024-10-10T17:48:01.263652Z"
    },
    "papermill": {
     "duration": 0.023483,
     "end_time": "2024-10-10T17:48:01.267019",
     "exception": false,
     "start_time": "2024-10-10T17:48:01.243536",
     "status": "completed"
    },
    "tags": []
   },
   "outputs": [
    {
     "data": {
      "text/html": [
       "<div>\n",
       "<style scoped>\n",
       "    .dataframe tbody tr th:only-of-type {\n",
       "        vertical-align: middle;\n",
       "    }\n",
       "\n",
       "    .dataframe tbody tr th {\n",
       "        vertical-align: top;\n",
       "    }\n",
       "\n",
       "    .dataframe thead th {\n",
       "        text-align: right;\n",
       "    }\n",
       "</style>\n",
       "<table border=\"1\" class=\"dataframe\">\n",
       "  <thead>\n",
       "    <tr style=\"text-align: right;\">\n",
       "      <th></th>\n",
       "      <th>Actual</th>\n",
       "      <th>Predicted</th>\n",
       "    </tr>\n",
       "  </thead>\n",
       "  <tbody>\n",
       "    <tr>\n",
       "      <th>0</th>\n",
       "      <td>98</td>\n",
       "      <td>97.553085</td>\n",
       "    </tr>\n",
       "    <tr>\n",
       "      <th>1</th>\n",
       "      <td>96</td>\n",
       "      <td>98.553692</td>\n",
       "    </tr>\n",
       "    <tr>\n",
       "      <th>2</th>\n",
       "      <td>86</td>\n",
       "      <td>79.542153</td>\n",
       "    </tr>\n",
       "    <tr>\n",
       "      <th>3</th>\n",
       "      <td>67</td>\n",
       "      <td>62.531829</td>\n",
       "    </tr>\n",
       "    <tr>\n",
       "      <th>4</th>\n",
       "      <td>16</td>\n",
       "      <td>14.502679</td>\n",
       "    </tr>\n",
       "    <tr>\n",
       "      <th>5</th>\n",
       "      <td>75</td>\n",
       "      <td>86.546404</td>\n",
       "    </tr>\n",
       "    <tr>\n",
       "      <th>6</th>\n",
       "      <td>43</td>\n",
       "      <td>44.520898</td>\n",
       "    </tr>\n",
       "    <tr>\n",
       "      <th>7</th>\n",
       "      <td>81</td>\n",
       "      <td>84.545190</td>\n",
       "    </tr>\n",
       "    <tr>\n",
       "      <th>8</th>\n",
       "      <td>22</td>\n",
       "      <td>23.508145</td>\n",
       "    </tr>\n",
       "    <tr>\n",
       "      <th>9</th>\n",
       "      <td>83</td>\n",
       "      <td>83.544583</td>\n",
       "    </tr>\n",
       "    <tr>\n",
       "      <th>10</th>\n",
       "      <td>29</td>\n",
       "      <td>29.511789</td>\n",
       "    </tr>\n",
       "    <tr>\n",
       "      <th>11</th>\n",
       "      <td>17</td>\n",
       "      <td>12.501465</td>\n",
       "    </tr>\n",
       "    <tr>\n",
       "      <th>12</th>\n",
       "      <td>38</td>\n",
       "      <td>40.518469</td>\n",
       "    </tr>\n",
       "    <tr>\n",
       "      <th>13</th>\n",
       "      <td>15</td>\n",
       "      <td>15.503287</td>\n",
       "    </tr>\n",
       "    <tr>\n",
       "      <th>14</th>\n",
       "      <td>88</td>\n",
       "      <td>93.550656</td>\n",
       "    </tr>\n",
       "    <tr>\n",
       "      <th>15</th>\n",
       "      <td>12</td>\n",
       "      <td>11.500857</td>\n",
       "    </tr>\n",
       "    <tr>\n",
       "      <th>16</th>\n",
       "      <td>79</td>\n",
       "      <td>81.543368</td>\n",
       "    </tr>\n",
       "    <tr>\n",
       "      <th>17</th>\n",
       "      <td>47</td>\n",
       "      <td>52.525756</td>\n",
       "    </tr>\n",
       "    <tr>\n",
       "      <th>18</th>\n",
       "      <td>95</td>\n",
       "      <td>90.548834</td>\n",
       "    </tr>\n",
       "  </tbody>\n",
       "</table>\n",
       "</div>"
      ],
      "text/plain": [
       "    Actual  Predicted\n",
       "0       98  97.553085\n",
       "1       96  98.553692\n",
       "2       86  79.542153\n",
       "3       67  62.531829\n",
       "4       16  14.502679\n",
       "5       75  86.546404\n",
       "6       43  44.520898\n",
       "7       81  84.545190\n",
       "8       22  23.508145\n",
       "9       83  83.544583\n",
       "10      29  29.511789\n",
       "11      17  12.501465\n",
       "12      38  40.518469\n",
       "13      15  15.503287\n",
       "14      88  93.550656\n",
       "15      12  11.500857\n",
       "16      79  81.543368\n",
       "17      47  52.525756\n",
       "18      95  90.548834"
      ]
     },
     "execution_count": 14,
     "metadata": {},
     "output_type": "execute_result"
    }
   ],
   "source": [
    "df2=pd.DataFrame({'Actual':Y_test.flatten(),'Predicted':Y_pred.flatten()})\n",
    "df2"
   ]
  },
  {
   "cell_type": "code",
   "execution_count": 15,
   "id": "2a33ed61",
   "metadata": {
    "execution": {
     "iopub.execute_input": "2024-10-10T17:48:01.285211Z",
     "iopub.status.busy": "2024-10-10T17:48:01.284829Z",
     "iopub.status.idle": "2024-10-10T17:48:01.721085Z",
     "shell.execute_reply": "2024-10-10T17:48:01.720007Z"
    },
    "papermill": {
     "duration": 0.44819,
     "end_time": "2024-10-10T17:48:01.723635",
     "exception": false,
     "start_time": "2024-10-10T17:48:01.275445",
     "status": "completed"
    },
    "tags": []
   },
   "outputs": [
    {
     "data": {
      "image/png": "[encoded data removed]",
      "text/plain": [
       "<Figure size 640x480 with 1 Axes>"
      ]
     },
     "metadata": {},
     "output_type": "display_data"
    }
   ],
   "source": [
    "df2.plot(kind='bar')\n",
    "plt.show()"
   ]
  },
  {
   "cell_type": "code",
   "execution_count": 16,
   "id": "b5ca813a",
   "metadata": {
    "execution": {
     "iopub.execute_input": "2024-10-10T17:48:01.743271Z",
     "iopub.status.busy": "2024-10-10T17:48:01.742585Z",
     "iopub.status.idle": "2024-10-10T17:48:01.944665Z",
     "shell.execute_reply": "2024-10-10T17:48:01.943619Z"
    },
    "papermill": {
     "duration": 0.214435,
     "end_time": "2024-10-10T17:48:01.946860",
     "exception": false,
     "start_time": "2024-10-10T17:48:01.732425",
     "status": "completed"
    },
    "tags": []
   },
   "outputs": [
    {
     "data": {
      "image/png": "[encoded data removed]",
      "text/plain": [
       "<Figure size 640x480 with 1 Axes>"
      ]
     },
     "metadata": {},
     "output_type": "display_data"
    }
   ],
   "source": [
    "# for training data\n",
    "plt.scatter(X_train,Y_train)\n",
    "plt.plot(X_train,model.predict(X_train),color='red')\n",
    "plt.show()"
   ]
  },
  {
   "cell_type": "code",
   "execution_count": 17,
   "id": "9efb815b",
   "metadata": {
    "execution": {
     "iopub.execute_input": "2024-10-10T17:48:01.966393Z",
     "iopub.status.busy": "2024-10-10T17:48:01.965998Z",
     "iopub.status.idle": "2024-10-10T17:48:02.167621Z",
     "shell.execute_reply": "2024-10-10T17:48:02.166542Z"
    },
    "papermill": {
     "duration": 0.214097,
     "end_time": "2024-10-10T17:48:02.169960",
     "exception": false,
     "start_time": "2024-10-10T17:48:01.955863",
     "status": "completed"
    },
    "tags": []
   },
   "outputs": [
    {
     "data": {
      "image/png": "[encoded data removed]",
      "text/plain": [
       "<Figure size 640x480 with 1 Axes>"
      ]
     },
     "metadata": {},
     "output_type": "display_data"
    }
   ],
   "source": [
    "# for testing data\n",
    "plt.scatter(X_test,Y_test)\n",
    "plt.plot(X_train,model.predict(X_train),color='red')\n",
    "plt.show()"
   ]
  },
  {
   "cell_type": "markdown",
   "id": "06904a4b",
   "metadata": {
    "papermill": {
     "duration": 0.008972,
     "end_time": "2024-10-10T17:48:02.190302",
     "exception": false,
     "start_time": "2024-10-10T17:48:02.181330",
     "status": "completed"
    },
    "tags": []
   },
   "source": [
    "----\n",
    "## Test the Accuracy"
   ]
  },
  {
   "cell_type": "code",
   "execution_count": 18,
   "id": "9d0ebb8b",
   "metadata": {
    "execution": {
     "iopub.execute_input": "2024-10-10T17:48:02.211049Z",
     "iopub.status.busy": "2024-10-10T17:48:02.210070Z",
     "iopub.status.idle": "2024-10-10T17:48:02.217665Z",
     "shell.execute_reply": "2024-10-10T17:48:02.216669Z"
    },
    "papermill": {
     "duration": 0.020124,
     "end_time": "2024-10-10T17:48:02.219686",
     "exception": false,
     "start_time": "2024-10-10T17:48:02.199562",
     "status": "completed"
    },
    "tags": []
   },
   "outputs": [
    {
     "data": {
      "text/plain": [
       "0.9808176734098893"
      ]
     },
     "execution_count": 18,
     "metadata": {},
     "output_type": "execute_result"
    }
   ],
   "source": [
    "# Accuracy for training data\n",
    "r2_score(Y_train,model.predict(X_train))"
   ]
  },
  {
   "cell_type": "code",
   "execution_count": 19,
   "id": "7ff95d27",
   "metadata": {
    "execution": {
     "iopub.execute_input": "2024-10-10T17:48:02.240292Z",
     "iopub.status.busy": "2024-10-10T17:48:02.239876Z",
     "iopub.status.idle": "2024-10-10T17:48:02.247599Z",
     "shell.execute_reply": "2024-10-10T17:48:02.246242Z"
    },
    "papermill": {
     "duration": 0.020632,
     "end_time": "2024-10-10T17:48:02.249718",
     "exception": false,
     "start_time": "2024-10-10T17:48:02.229086",
     "status": "completed"
    },
    "tags": []
   },
   "outputs": [
    {
     "data": {
      "text/plain": [
       "0.9816622281698225"
      ]
     },
     "execution_count": 19,
     "metadata": {},
     "output_type": "execute_result"
    }
   ],
   "source": [
    "# Accuracy for testing data\n",
    "r2_score(Y_test,Y_pred)"
   ]
  },
  {
   "cell_type": "markdown",
   "id": "5723a813",
   "metadata": {
    "papermill": {
     "duration": 0.009358,
     "end_time": "2024-10-10T17:48:02.268556",
     "exception": false,
     "start_time": "2024-10-10T17:48:02.259198",
     "status": "completed"
    },
    "tags": []
   },
   "source": [
    "----\n",
    "## Build the same model using statsmodels"
   ]
  },
  {
   "cell_type": "code",
   "execution_count": 20,
   "id": "0a2d303d",
   "metadata": {
    "execution": {
     "iopub.execute_input": "2024-10-10T17:48:02.289769Z",
     "iopub.status.busy": "2024-10-10T17:48:02.288769Z",
     "iopub.status.idle": "2024-10-10T17:48:02.296331Z",
     "shell.execute_reply": "2024-10-10T17:48:02.295275Z"
    },
    "papermill": {
     "duration": 0.020607,
     "end_time": "2024-10-10T17:48:02.298660",
     "exception": false,
     "start_time": "2024-10-10T17:48:02.278053",
     "status": "completed"
    },
    "tags": []
   },
   "outputs": [],
   "source": [
    "X_stat=sm.add_constant(X_train)\n",
    "model2=sm.OLS(Y_train,X_stat).fit()"
   ]
  },
  {
   "cell_type": "code",
   "execution_count": 21,
   "id": "bee77bcd",
   "metadata": {
    "execution": {
     "iopub.execute_input": "2024-10-10T17:48:02.319544Z",
     "iopub.status.busy": "2024-10-10T17:48:02.319106Z",
     "iopub.status.idle": "2024-10-10T17:48:02.349916Z",
     "shell.execute_reply": "2024-10-10T17:48:02.348727Z"
    },
    "papermill": {
     "duration": 0.044165,
     "end_time": "2024-10-10T17:48:02.352371",
     "exception": false,
     "start_time": "2024-10-10T17:48:02.308206",
     "status": "completed"
    },
    "tags": []
   },
   "outputs": [
    {
     "data": {
      "text/html": [
       "<table class=\"simpletable\">\n",
       "<caption>OLS Regression Results</caption>\n",
       "<tr>\n",
       "  <th>Dep. Variable:</th>            <td>y</td>        <th>  R-squared:         </th> <td>   0.981</td>\n",
       "</tr>\n",
       "<tr>\n",
       "  <th>Model:</th>                   <td>OLS</td>       <th>  Adj. R-squared:    </th> <td>   0.981</td>\n",
       "</tr>\n",
       "<tr>\n",
       "  <th>Method:</th>             <td>Least Squares</td>  <th>  F-statistic:       </th> <td>   3784.</td>\n",
       "</tr>\n",
       "<tr>\n",
       "  <th>Date:</th>             <td>Thu, 10 Oct 2024</td> <th>  Prob (F-statistic):</th> <td>2.74e-65</td>\n",
       "</tr>\n",
       "<tr>\n",
       "  <th>Time:</th>                 <td>17:48:02</td>     <th>  Log-Likelihood:    </th> <td> -196.27</td>\n",
       "</tr>\n",
       "<tr>\n",
       "  <th>No. Observations:</th>      <td>    76</td>      <th>  AIC:               </th> <td>   396.5</td>\n",
       "</tr>\n",
       "<tr>\n",
       "  <th>Df Residuals:</th>          <td>    74</td>      <th>  BIC:               </th> <td>   401.2</td>\n",
       "</tr>\n",
       "<tr>\n",
       "  <th>Df Model:</th>              <td>     1</td>      <th>                     </th>     <td> </td>   \n",
       "</tr>\n",
       "<tr>\n",
       "  <th>Covariance Type:</th>      <td>nonrobust</td>    <th>                     </th>     <td> </td>   \n",
       "</tr>\n",
       "</table>\n",
       "<table class=\"simpletable\">\n",
       "<tr>\n",
       "    <td></td>       <th>coef</th>     <th>std err</th>      <th>t</th>      <th>P>|t|</th>  <th>[0.025</th>    <th>0.975]</th>  \n",
       "</tr>\n",
       "<tr>\n",
       "  <th>const</th> <td>    1.4948</td> <td>    0.923</td> <td>    1.620</td> <td> 0.110</td> <td>   -0.344</td> <td>    3.334</td>\n",
       "</tr>\n",
       "<tr>\n",
       "  <th>x1</th>    <td>   10.0061</td> <td>    0.163</td> <td>   61.512</td> <td> 0.000</td> <td>    9.682</td> <td>   10.330</td>\n",
       "</tr>\n",
       "</table>\n",
       "<table class=\"simpletable\">\n",
       "<tr>\n",
       "  <th>Omnibus:</th>       <td> 0.431</td> <th>  Durbin-Watson:     </th> <td>   1.660</td>\n",
       "</tr>\n",
       "<tr>\n",
       "  <th>Prob(Omnibus):</th> <td> 0.806</td> <th>  Jarque-Bera (JB):  </th> <td>   0.498</td>\n",
       "</tr>\n",
       "<tr>\n",
       "  <th>Skew:</th>          <td>-0.170</td> <th>  Prob(JB):          </th> <td>   0.779</td>\n",
       "</tr>\n",
       "<tr>\n",
       "  <th>Kurtosis:</th>      <td> 2.797</td> <th>  Cond. No.          </th> <td>    14.4</td>\n",
       "</tr>\n",
       "</table><br/><br/>Notes:<br/>[1] Standard Errors assume that the covariance matrix of the errors is correctly specified."
      ],
      "text/latex": [
       "\\begin{center}\n",
       "\\begin{tabular}{lclc}\n",
       "\\toprule\n",
       "\\textbf{Dep. Variable:}    &        y         & \\textbf{  R-squared:         } &     0.981   \\\\\n",
       "\\textbf{Model:}            &       OLS        & \\textbf{  Adj. R-squared:    } &     0.981   \\\\\n",
       "\\textbf{Method:}           &  Least Squares   & \\textbf{  F-statistic:       } &     3784.   \\\\\n",
       "\\textbf{Date:}             & Thu, 10 Oct 2024 & \\textbf{  Prob (F-statistic):} &  2.74e-65   \\\\\n",
       "\\textbf{Time:}             &     17:48:02     & \\textbf{  Log-Likelihood:    } &   -196.27   \\\\\n",
       "\\textbf{No. Observations:} &          76      & \\textbf{  AIC:               } &     396.5   \\\\\n",
       "\\textbf{Df Residuals:}     &          74      & \\textbf{  BIC:               } &     401.2   \\\\\n",
       "\\textbf{Df Model:}         &           1      & \\textbf{                     } &             \\\\\n",
       "\\textbf{Covariance Type:}  &    nonrobust     & \\textbf{                     } &             \\\\\n",
       "\\bottomrule\n",
       "\\end{tabular}\n",
       "\\begin{tabular}{lcccccc}\n",
       "               & \\textbf{coef} & \\textbf{std err} & \\textbf{t} & \\textbf{P$> |$t$|$} & \\textbf{[0.025} & \\textbf{0.975]}  \\\\\n",
       "\\midrule\n",
       "\\textbf{const} &       1.4948  &        0.923     &     1.620  &         0.110        &       -0.344    &        3.334     \\\\\n",
       "\\textbf{x1}    &      10.0061  &        0.163     &    61.512  &         0.000        &        9.682    &       10.330     \\\\\n",
       "\\bottomrule\n",
       "\\end{tabular}\n",
       "\\begin{tabular}{lclc}\n",
       "\\textbf{Omnibus:}       &  0.431 & \\textbf{  Durbin-Watson:     } &    1.660  \\\\\n",
       "\\textbf{Prob(Omnibus):} &  0.806 & \\textbf{  Jarque-Bera (JB):  } &    0.498  \\\\\n",
       "\\textbf{Skew:}          & -0.170 & \\textbf{  Prob(JB):          } &    0.779  \\\\\n",
       "\\textbf{Kurtosis:}      &  2.797 & \\textbf{  Cond. No.          } &     14.4  \\\\\n",
       "\\bottomrule\n",
       "\\end{tabular}\n",
       "%\\caption{OLS Regression Results}\n",
       "\\end{center}\n",
       "\n",
       "Notes: \\newline\n",
       " [1] Standard Errors assume that the covariance matrix of the errors is correctly specified."
      ],
      "text/plain": [
       "<class 'statsmodels.iolib.summary.Summary'>\n",
       "\"\"\"\n",
       "                            OLS Regression Results                            \n",
       "==============================================================================\n",
       "Dep. Variable:                      y   R-squared:                       0.981\n",
       "Model:                            OLS   Adj. R-squared:                  0.981\n",
       "Method:                 Least Squares   F-statistic:                     3784.\n",
       "Date:                Thu, 10 Oct 2024   Prob (F-statistic):           2.74e-65\n",
       "Time:                        17:48:02   Log-Likelihood:                -196.27\n",
       "No. Observations:                  76   AIC:                             396.5\n",
       "Df Residuals:                      74   BIC:                             401.2\n",
       "Df Model:                           1                                         \n",
       "Covariance Type:            nonrobust                                         \n",
       "==============================================================================\n",
       "                 coef    std err          t      P>|t|      [0.025      0.975]\n",
       "------------------------------------------------------------------------------\n",
       "const          1.4948      0.923      1.620      0.110      -0.344       3.334\n",
       "x1            10.0061      0.163     61.512      0.000       9.682      10.330\n",
       "==============================================================================\n",
       "Omnibus:                        0.431   Durbin-Watson:                   1.660\n",
       "Prob(Omnibus):                  0.806   Jarque-Bera (JB):                0.498\n",
       "Skew:                          -0.170   Prob(JB):                        0.779\n",
       "Kurtosis:                       2.797   Cond. No.                         14.4\n",
       "==============================================================================\n",
       "\n",
       "Notes:\n",
       "[1] Standard Errors assume that the covariance matrix of the errors is correctly specified.\n",
       "\"\"\""
      ]
     },
     "execution_count": 21,
     "metadata": {},
     "output_type": "execute_result"
    }
   ],
   "source": [
    "model2.summary()"
   ]
  },
  {
   "cell_type": "markdown",
   "id": "cd726fe7",
   "metadata": {
    "papermill": {
     "duration": 0.009954,
     "end_time": "2024-10-10T17:48:02.372395",
     "exception": false,
     "start_time": "2024-10-10T17:48:02.362441",
     "status": "completed"
    },
    "tags": []
   },
   "source": [
    "<P style = \"text-align:center;  color:#206C76;  font-size:300%;font-family:Comic Sans MS;\">  Thanks For Reading 𓆩♡𓆪 </P>\n"
   ]
  }
 ],
 "metadata": {
  "kaggle": {
   "accelerator": "none",
   "dataSources": [
    {
     "datasetId": 2353567,
     "sourceId": 6200064,
     "sourceType": "datasetVersion"
    }
   ],
   "dockerImageVersionId": 30786,
   "isGpuEnabled": false,
   "isInternetEnabled": true,
   "language": "python",
   "sourceType": "notebook"
  },
  "kernelspec": {
   "display_name": "Python 3",
   "language": "python",
   "name": "python3"
  },
  "language_info": {
   "codemirror_mode": {
    "name": "ipython",
    "version": 3
   },
   "file_extension": ".py",
   "mimetype": "text/x-python",
   "name": "python",
   "nbconvert_exporter": "python",
   "pygments_lexer": "ipython3",
   "version": "3.10.14"
  },
  "papermill": {
   "default_parameters": {},
   "duration": 9.135391,
   "end_time": "2024-10-10T17:48:03.003167",
   "environment_variables": {},
   "exception": null,
   "input_path": "__notebook__.ipynb",
   "output_path": "__notebook__.ipynb",
   "parameters": {},
   "start_time": "2024-10-10T17:47:53.867776",
   "version": "2.6.0"
  }
 },
 "nbformat": 4,
 "nbformat_minor": 5
}
